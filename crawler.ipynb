{
 "metadata": {
  "language_info": {
   "codemirror_mode": {
    "name": "ipython",
    "version": 3
   },
   "file_extension": ".py",
   "mimetype": "text/x-python",
   "name": "python",
   "nbconvert_exporter": "python",
   "pygments_lexer": "ipython3",
   "version": "3.7.7-final"
  },
  "orig_nbformat": 2,
  "kernelspec": {
   "name": "python_defaultSpec_1600496514031",
   "display_name": "Python 3.7.7 64-bit"
  }
 },
 "nbformat": 4,
 "nbformat_minor": 2,
 "cells": [
  {
   "cell_type": "code",
   "execution_count": 1,
   "metadata": {},
   "outputs": [],
   "source": [
    "import json\n",
    "import time\n",
    "\n",
    "from bs4 import BeautifulSoup\n",
    "import requests\n",
    "import pandas as pd\n",
    "\n",
    "from selenium import webdriver\n",
    "from selenium.common.exceptions import NoSuchElementException\n",
    "from selenium.common.exceptions import TimeoutException\n",
    "from selenium.webdriver.support.ui import WebDriverWait\n",
    "from selenium.webdriver.support import expected_conditions as EC\n",
    "from selenium.webdriver.common.by import By\n",
    "from selenium.webdriver.chrome.options import Options\n",
    "\n",
    "from tqdm import tqdm_notebook"
   ]
  },
  {
   "cell_type": "code",
   "execution_count": 2,
   "metadata": {},
   "outputs": [],
   "source": [
    "base_url = \"https://trustpilot.com\""
   ]
  },
  {
   "cell_type": "code",
   "execution_count": 3,
   "metadata": {},
   "outputs": [],
   "source": [
    "def get_soup(url):\n",
    "    return BeautifulSoup(requests.get(url).content, 'lxml')"
   ]
  },
  {
   "cell_type": "code",
   "execution_count": 4,
   "metadata": {
    "tags": []
   },
   "outputs": [],
   "source": [
    "data = {}\n",
    "# 類別網址\n",
    "soup = get_soup(base_url + '/categories')\n",
    "# 找尋所有父類別 ('div', {'class': 'subCategory___BRUDy'})\n",
    "for category in soup.findAll('div', {'class': 'subCategory___BRUDy'}):\n",
    "    name = category.find('h3', {'class': 'subCategoryHeader___36ykD'}).text\n",
    "    name = name.strip()\n",
    "    data[name] = {}  \n",
    "    sub_categories = category.find('div', {'class': 'subCategoryList___r67Qj'})\n",
    "    # 子類別\n",
    "    for sub_category in sub_categories.findAll('div', {'class': 'subCategoryItem___3ksKz'}):\n",
    "        #子類別名稱\n",
    "        sub_category_name = sub_category.find('a', {'class': 'internal___1jK0Z typography___lxzyt weight-inherit___229vl navigation___2n5P8'}).text\n",
    "        # 子類別網址\n",
    "        sub_category_uri = sub_category.find('a', {'class': 'internal___1jK0Z typography___lxzyt weight-inherit___229vl navigation___2n5P8'})['href']\n",
    "        data[name][sub_category_name] = sub_category_uri"
   ]
  },
  {
   "cell_type": "code",
   "execution_count": 5,
   "metadata": {},
   "outputs": [
    {
     "output_type": "execute_result",
     "data": {
      "text/plain": "{'Animals & Pets': {'Animal Health': '/categories/animal_health',\n  'Animal Parks & Zoo': '/categories/animal_parks_zoo',\n  'Cats & Dogs': '/categories/cats_dogs',\n  'Horses & Riding': '/categories/horses_riding',\n  'Pet Services': '/categories/pet_services',\n  'Pet Stores': '/categories/pet_stores'},\n 'Beauty & Well-being': {'Cosmetics & Makeup': '/categories/cosmetics_makeup',\n  'Hair Care & Styling': '/categories/hair_care_styling',\n  'Personal Care': '/categories/personal_care',\n  'Salons & Clinics': '/categories/salons_clinics',\n  'Tattoos & Piercings': '/categories/tattoos_piercings',\n  'Wellness & Spa': '/categories/wellness_spa',\n  'Yoga & Meditation': '/categories/yoga_meditation'},\n 'Business Services': {'Administration & Services': '/categories/administration_services',\n  'Associations & Centers': '/categories/associations_centers',\n  'HR & Recruiting': '/categories/hr_recruiting',\n  'IT & Communication': '/categories/it_communication',\n  'Import & Export': '/categories/import_export',\n  'Office Space & Supplies': '/categories/office_space_supplies',\n  'Print & Graphic Design': '/categories/print_graphic_design',\n  'Research & Development': '/categories/research_development',\n  'Sales & Marketing': '/categories/sales_marketing',\n  'Shipping & Logistics': '/categories/shipping_logistics',\n  'Wholesale': '/categories/wholesale'},\n 'Construction & Manufacturing': {'Architects & Engineers': '/categories/architects_engineers',\n  'Building Materials': '/categories/building_materials',\n  'Chemicals & Plastic': '/categories/chemicals_plastic',\n  'Construction Services': '/categories/construction_services',\n  'Contractors & Consultants': '/categories/contractors_consultants',\n  'Factory Equipment': '/categories/factory_equipment',\n  'Garden & Landscaping': '/categories/garden_landscaping',\n  'Industrial Supplies': '/categories/industrial_supplies',\n  'Manufacturing': '/categories/manufacturing',\n  'Production Services': '/categories/production_services',\n  'Tools & Equipment': '/categories/tools_equipment'},\n 'Education & Training': {'Colleges & Universities': '/categories/colleges_universities',\n  'Courses & Classes': '/categories/courses_classes',\n  'Education Services': '/categories/education_services',\n  'Language Learning': '/categories/language_learning',\n  'Music & Theater Classes': '/categories/music_theater_classes',\n  'School & High School': '/categories/school_high_school',\n  'Specials Schools': '/categories/specials_schools',\n  'Vocational Training': '/categories/vocational_training'},\n 'Electronics & Technology': {'Appliances & Electronics': '/categories/appliances_electronics',\n  'Audio & Visual': '/categories/audio_visual',\n  'Computers & Phones': '/categories/computers_phones',\n  'Internet & Software': '/categories/internet_software',\n  'Repair & Services': '/categories/repair_services'},\n 'Events & Entertainment': {'Adult Entertainment': '/categories/adult_entertainment',\n  \"Children's Entertainment\": '/categories/childrens_entertainment',\n  'Clubbing & Nightlife': '/categories/clubbing_nightlife',\n  'Events & Venues': '/categories/events_venues',\n  'Gambling': '/categories/gambling',\n  'Gaming': '/categories/gaming',\n  'Museums & Exibits': '/categories/museums_exibits',\n  'Music & Movies': '/categories/music_movies',\n  'Theater & Opera': '/categories/theater_opera',\n  'Wedding & Party': '/categories/wedding_party'},\n 'Food, Beverages & Tobacco': {'Agriculture & Produce': '/categories/agriculture_produce',\n  'Asian Grocery Stores': '/categories/asian_grocery_stores',\n  'Bakery & Pastry': '/categories/bakery_pastry',\n  'Beer & Wine': '/categories/beer_wine',\n  'Beverages & Liquor': '/categories/beverages_liquor',\n  'Butcher': '/categories/butcher',\n  'Candy & Chocolate': '/categories/candy_chocolate',\n  'Coffee & Tea': '/categories/coffee_tea',\n  'Food Production': '/categories/food_production',\n  'Fruits & Vegetables': '/categories/fruits_vegetables',\n  'Grocery Stores & Markets': '/categories/grocery_stores_markets',\n  'Lunch & Catering': '/categories/lunch_catering',\n  'Meat, Seafood & Eggs': '/categories/meat_seafood_eggs',\n  'Smoking & Tobacco': '/categories/smoking_tobacco',\n  'Tobacco Store': '/categories/tobacco_store'},\n 'Health & Medical': {'Clinics': '/categories/clinics',\n  'Dental Services': '/categories/dental_services',\n  'Diagnostics & Testing': '/categories/diagnostics_testing',\n  'Doctors & Surgeons': '/categories/doctors_surgeons',\n  'Health Equipment': '/categories/health_equipment',\n  'Hospital & Emergency': '/categories/hospital_emergency',\n  'Medical Specialists': '/categories/medical_specialists',\n  'Mental Health': '/categories/mental_health',\n  'Pharmacy & Medicine': '/categories/pharmacy_medicine',\n  'Physical Aids': '/categories/physical_aids',\n  'Pregnancy & Children': '/categories/pregnancy_children',\n  'Therapy & Senior Health': '/categories/therapy_senior_health',\n  'Vision & Hearing': '/categories/vision_hearing'},\n 'Hobbies & Crafts': {'Art & Handicraft': '/categories/art_handicraft',\n  'Astrology & Numerology': '/categories/astrology_numerology',\n  'Fishing & Hunting': '/categories/fishing_hunting',\n  'Hobbies': '/categories/hobbies',\n  'Metal, Stone & Glass Work': '/categories/metal_stone_glass_work',\n  'Music & Instruments': '/categories/music_instruments',\n  'Needlework & Knitting': '/categories/needlework_knitting',\n  'Outdoor Activities': '/categories/outdoor_activities',\n  'Painting & Paper': '/categories/painting_paper'},\n 'Home & Garden': {'Bathroom & Kitchen': '/categories/bathroom_kitchen',\n  'Cultural Goods': '/categories/cultural_goods',\n  'Decoration & Interior': '/categories/decoration_interior',\n  'Energy & Heating': '/categories/energy_heating',\n  'Fabric & Stationery': '/categories/fabric_stationary',\n  'Furniture Stores': '/categories/furniture_stores',\n  'Garden & Pond': '/categories/garden_pond',\n  'Home & Garden Services': '/categories/home_garden_services',\n  'Home Goods Stores': '/categories/home_goods_stores',\n  'Home Improvements': '/categories/home_improvements'},\n 'Home Services': {'Cleaning Service Providers': '/categories/cleaning_service_providers',\n  'Craftsman': '/categories/craftsman',\n  'House Services': '/categories/house_services',\n  'House Sitting & Security': '/categories/house_sitting_security',\n  'Moving & Storage': '/categories/moving_storage',\n  'Plumbing & Sanitation': '/categories/plumbing_sanitation',\n  'Repair Service Providers': '/categories/repair_service_providers'},\n 'Legal Services & Government': {'Customs & Toll': '/categories/customs_toll',\n  'Government Department': '/categories/government_department',\n  'Law Enforcement': '/categories/law_enforcement',\n  'Lawyers & Attorneys': '/categories/lawyers_attorneys',\n  'Legal Service Providers': '/categories/legal_service_providers',\n  'Libraries & Archives': '/categories/libraries_archives',\n  'Municipal Department': '/categories/municipal_department',\n  'Registration Services': '/categories/registration_services'},\n 'Media & Publishing': {'Books & Magazines': '/categories/books_magazines',\n  'Media & Information': '/categories/media_information',\n  'Photography': '/categories/photography',\n  'Video & Sound': '/categories/video_sound'},\n 'Money & Insurance': {'Accounting & Tax': '/categories/accounting_tax',\n  'Banking & Money': '/categories/banking_money',\n  'Credit & Debt Services': '/categories/credit_debt_services',\n  'Insurance': '/categories/insurance',\n  'Investments & Wealth': '/categories/investments_wealth',\n  'Real Estate': '/categories/real_estate'},\n 'Public & Local Services': {'Employment & Career': '/categories/employment_career',\n  'Funeral & Memorial': '/categories/funeral_memorial',\n  'Housing Associations': '/categories/housing_associations',\n  'Kids & Family': '/categories/kids_family',\n  'Military & Veteran': '/categories/military_veteran',\n  'Nature & Environment': '/categories/nature_environment',\n  'Professional Organizations': '/categories/professional_organizations',\n  'Public Services & Welfare': '/categories/public_services_welfare',\n  'Religious Institutions': '/categories/religious_institutions',\n  'Shelters & Homes': '/categories/shelters_homes',\n  'Waste Management': '/categories/waste_management'},\n 'Restaurants & Bars': {'Bars & Cafes': '/categories/bars_cafes',\n  'European Cuisine': '/categories/european_cuisine',\n  'General Restaurants': '/categories/general_restaurants',\n  'Mediterranean Cuisine': '/categories/mediterranean_cuisine',\n  'Middle Eastern Cuisine': '/categories/middle_eastern_cuisine',\n  'North & South American Cuisine': '/categories/north_south_american_cuisine',\n  'Southeast Asian Cuisine': '/categories/southeast_asian_cuisine',\n  'Takeaway': '/categories/takeaway',\n  'Vegetarian & Diet': '/categories/vegetarian_diet'},\n 'Shopping & Fashion': {'Accessories': '/categories/accessories',\n  'Clothing & Underwear': '/categories/clothing_underwear',\n  'Clothing Rental & Repair': '/categories/clothing_rental_repair',\n  'Costume & Wedding': '/categories/costume_wedding',\n  'Jewelry & Watches': '/categories/jewelry_watches',\n  'Malls & Marketplaces': '/categories/malls_marketplaces'},\n 'Sports': {'Ball Games': '/categories/ball_games',\n  'Bat-and-ball Games': '/categories/bat-and-ball_games',\n  'Bowls & Lawn Sports': '/categories/bowls_lawn_sports',\n  'Dancing & Gymnastics': '/categories/dancing_gymnastics',\n  'Equipment & Associations': '/categories/equipment_associations',\n  'Extreme Sports': '/categories/extreme_sports',\n  'Fitness & Weight Lifting': '/categories/fitness_weight_lifting',\n  'Golf & Ultimate': '/categories/golf_ultimate',\n  'Hockey & Ice Skating': '/categories/hockey_ice_skating',\n  'Martial arts & Wrestling': '/categories/martial_arts_wrestling',\n  'Outdoor & Winter Sports': '/categories/outdoor_winter_sports',\n  'Shooting & Target Sports': '/categories/shooting_target_sports',\n  'Swimming & Water Sports': '/categories/swimming_water_sports',\n  'Tennis & Racquet Sports': '/categories/tennis_racquet_sports'},\n 'Travel & Vacation': {'Accommodation & Lodging': '/categories/accomodations_lodging',\n  'Activities & Tours': '/categories/activities_tours',\n  'Airlines & Air Travel': '/categories/airlines_air_travel',\n  'Hotels': '/categories/hotels',\n  'Travel Agencies': '/categories/travel_agencies'},\n 'Utilities': {'Energy & Power': '/categories/energy_power',\n  'Water Utilities': '/categories/water_utilities'},\n 'Vehicles & Transportation': {'Air & Water Transport': '/categories/air_water_transport',\n  'Airports & Parking': '/categories/airports_parking',\n  'Auto Parts & Wheels': '/categories/auto_parts_wheels',\n  'Bicycles': '/categories/bicycles',\n  'Cars & Trucks': '/categories/cars_trucks',\n  'Motorcycle & Powersports': '/categories/motorcycle_powersports',\n  'Other Vehicles & Trailers': '/categories/other_vehicles_trailers',\n  'Taxis & Public Transport': '/categories/taxis_public_transport',\n  'Vehical Rental': '/categories/vehical_rental',\n  'Vehicle Repair & Fuel': '/categories/vehicle_repair_fuel'}}"
     },
     "metadata": {},
     "execution_count": 5
    }
   ],
   "source": [
    "data"
   ]
  },
  {
   "cell_type": "code",
   "execution_count": 28,
   "metadata": {},
   "outputs": [],
   "source": [
    "def extract_company_urls_form_page():\n",
    "    # 尋找評論網址\n",
    "    a_list = driver.find_elements_by_xpath('//a[@class=\"internal___1jK0Z wrapper___26yB4\"]')\n",
    "    urls = [a.get_attribute('href') for a in a_list]\n",
    "    # 過濾不是\"review\"的網址\n",
    "    urls=[url for url in urls if url.split('/')[3]=='review']\n",
    "    dedup_urls = list(set(urls))\n",
    "    return dedup_urls"
   ]
  },
  {
   "cell_type": "code",
   "execution_count": 29,
   "metadata": {},
   "outputs": [],
   "source": [
    "def go_next_page():\n",
    "    try:\n",
    "        # 尋找是否有\"下一頁\"的按鈕\n",
    "        button = driver.find_element_by_xpath('//a[@class=\"paginationLinkNormalize___scOgG paginationLinkNext___1LQ14\"]')\n",
    "        return True, button\n",
    "    except NoSuchElementException:\n",
    "        return False, None"
   ]
  },
  {
   "source": [
    "'''\n",
    "執行Chrome Driver以不用開chrome進行加速爬蟲\n",
    "'''"
   ],
   "cell_type": "code",
   "metadata": {},
   "execution_count": 6,
   "outputs": []
  },
  {
   "cell_type": "code",
   "execution_count": 30,
   "metadata": {},
   "outputs": [],
   "source": [
    "options = Options()\n",
    "options.add_argument('--headless')\n",
    "options.add_argument('--no-sandbox')\n",
    "options.add_argument('start-maximized')\n",
    "options.add_argument('disable-infobars')\n",
    "options.add_argument(\"--disable-extensions\")\n",
    "\n",
    "prefs = {\"profile.managed_default_content_settings.images\": 2}\n",
    "options.add_experimental_option(\"prefs\", prefs)\n",
    "\n",
    "driver = webdriver.Chrome('./chromedriver', options=options)\n",
    "\n",
    "timeout = 3"
   ]
  },
  {
   "cell_type": "code",
   "execution_count": 31,
   "metadata": {
    "tags": []
   },
   "outputs": [
    {
     "output_type": "display_data",
     "data": {
      "text/plain": "HBox(children=(FloatProgress(value=0.0, max=22.0), HTML(value='')))",
      "application/vnd.jupyter.widget-view+json": {
       "version_major": 2,
       "version_minor": 0,
       "model_id": "3694cea691ff4c8ba898275cf9d93aa9"
      }
     },
     "metadata": {}
    },
    {
     "output_type": "display_data",
     "data": {
      "text/plain": "HBox(children=(FloatProgress(value=0.0, max=6.0), HTML(value='')))",
      "application/vnd.jupyter.widget-view+json": {
       "version_major": 2,
       "version_minor": 0,
       "model_id": "20bd82b84c7740418e3cac0f8ccfbb52"
      }
     },
     "metadata": {}
    },
    {
     "output_type": "display_data",
     "data": {
      "text/plain": "HBox(children=(FloatProgress(value=0.0, max=7.0), HTML(value='')))",
      "application/vnd.jupyter.widget-view+json": {
       "version_major": 2,
       "version_minor": 0,
       "model_id": "940afc58044446d0820905c92d578e17"
      }
     },
     "metadata": {}
    },
    {
     "output_type": "display_data",
     "data": {
      "text/plain": "HBox(children=(FloatProgress(value=0.0, max=11.0), HTML(value='')))",
      "application/vnd.jupyter.widget-view+json": {
       "version_major": 2,
       "version_minor": 0,
       "model_id": "26279045a18b4581bd6c8c750faf2a65"
      }
     },
     "metadata": {}
    }
   ],
   "source": [
    "company_urls = {}\n",
    "for category in tqdm_notebook(data):\n",
    "    for sub_category in tqdm_notebook(data[category], leave=False):\n",
    "        company_urls[sub_category] = []\n",
    "        # 公司評論網址\n",
    "        url = base_url + data[category][sub_category] + \"?numberofreviews=0&timeperiod=0&status=all\"\n",
    "        driver.get(url)\n",
    "        try: \n",
    "            # 檢查是否有 class \"internal___1jK0Z wrapper___26yB4\"(討論網站)\n",
    "            element_present = EC.presence_of_element_located(\n",
    "                (By.CLASS_NAME, 'internal___1jK0Z wrapper___26yB4'))\n",
    "            # 有的話等3秒\n",
    "            WebDriverWait(driver, timeout).until(element_present)\n",
    "        except:\n",
    "            pass\n",
    "    \n",
    "        next_page = True\n",
    "        c = 1\n",
    "        while next_page:\n",
    "            extracted_company_urls = extract_company_urls_form_page()\n",
    "            company_urls[sub_category] += extracted_company_urls\n",
    "            next_page, button = go_next_page()\n",
    "            if c>10:\n",
    "                break\n",
    "            if next_page:\n",
    "                c += 1\n",
    "                next_url = base_url + data[category][sub_category] + \"?numberofreviews=0&timeperiod=0&status=all\" + f'&page={c}'\n",
    "                driver.get(next_url)\n",
    "                try: \n",
    "                    # 檢查是否有 class \"internal___1jK0Z wrapper___26yB4\"\n",
    "                    element_present = EC.presence_of_element_located(\n",
    "                        (By.CLASS_NAME, 'internal___1jK0Z wrapper___26yB4'))\n",
    "                    # 有的話等3秒\n",
    "                    WebDriverWait(driver, timeout).until(element_present)\n",
    "                except:\n",
    "                    pass"
   ]
  },
  {
   "cell_type": "code",
   "execution_count": 10,
   "metadata": {},
   "outputs": [],
   "source": [
    "with open('./company_urls_en', 'w') as f:\n",
    "    json.dump(company_urls, f)"
   ]
  },
  {
   "cell_type": "code",
   "execution_count": null,
   "metadata": {},
   "outputs": [],
   "source": [
    "consolidated_data = []\n",
    "\n",
    "for category in data:\n",
    "    for sub_category in data[category]:\n",
    "        for url in company_urls[sub_category]:\n",
    "            consolidated_data.append((category, sub_category, url))\n",
    "\n",
    "df_consolidated_data = pd.DataFrame(consolidated_data, columns=['category', 'sub_category', 'company_url'])\n",
    "\n",
    "df_consolidated_data.to_csv('./consolidate_company_urls.csv', index=False)"
   ]
  }
 ]
}