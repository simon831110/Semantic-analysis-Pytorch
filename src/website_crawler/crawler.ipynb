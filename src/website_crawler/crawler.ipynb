{
 "metadata": {
  "language_info": {
   "codemirror_mode": {
    "name": "ipython",
    "version": 3
   },
   "file_extension": ".py",
   "mimetype": "text/x-python",
   "name": "python",
   "nbconvert_exporter": "python",
   "pygments_lexer": "ipython3",
   "version": "3.7.7-final"
  },
  "orig_nbformat": 2,
  "kernelspec": {
   "name": "Python 3.7.7 64-bit",
   "display_name": "Python 3.7.7 64-bit",
   "metadata": {
    "interpreter": {
     "hash": "a4ca0a1be38340d2e1b70bc6cc73081324f38c92d6b10994d2eeb96728463324"
    }
   }
  }
 },
 "nbformat": 4,
 "nbformat_minor": 2,
 "cells": [
  {
   "cell_type": "code",
   "execution_count": 1,
   "metadata": {},
   "outputs": [],
   "source": [
    "import json\n",
    "import time\n",
    "\n",
    "from bs4 import BeautifulSoup\n",
    "import requests\n",
    "import pandas as pd\n",
    "\n",
    "from selenium import webdriver\n",
    "from selenium.common.exceptions import NoSuchElementException\n",
    "from selenium.common.exceptions import TimeoutException\n",
    "from selenium.webdriver.support.ui import WebDriverWait\n",
    "from selenium.webdriver.support import expected_conditions as EC\n",
    "from selenium.webdriver.common.by import By\n",
    "from selenium.webdriver.chrome.options import Options\n",
    "\n",
    "from tqdm import tqdm_notebook"
   ]
  },
  {
   "cell_type": "code",
   "execution_count": 2,
   "metadata": {},
   "outputs": [],
   "source": [
    "base_url = \"https://trustpilot.com\""
   ]
  },
  {
   "cell_type": "code",
   "execution_count": 3,
   "metadata": {},
   "outputs": [],
   "source": [
    "def get_soup(url):\n",
    "    return BeautifulSoup(requests.get(url).content, 'lxml')"
   ]
  },
  {
   "cell_type": "code",
   "execution_count": 4,
   "metadata": {
    "tags": []
   },
   "outputs": [],
   "source": [
    "data = {}\n",
    "# 類別網址\n",
    "soup = get_soup(base_url + '/categories')\n",
    "# 找尋所有父類別 ('div', {'class': 'subCategory___BRUDy'})\n",
    "for category in soup.findAll('div', {'class': 'subCategory___BRUDy'}):\n",
    "    name = category.find('h3', {'class': 'subCategoryHeader___36ykD'}).text\n",
    "    name = name.strip()\n",
    "    data[name] = {}  \n",
    "    sub_categories = category.find('div', {'class': 'subCategoryList___r67Qj'})\n",
    "    # 子類別\n",
    "    for sub_category in sub_categories.findAll('div', {'class': 'subCategoryItem___3ksKz'}):\n",
    "        #子類別名稱\n",
    "        sub_category_name = sub_category.find('a', {'class': 'internal___1jK0Z typography___lxzyt weight-inherit___229vl navigation___2n5P8'}).text\n",
    "        # 子類別網址\n",
    "        sub_category_uri = sub_category.find('a', {'class': 'internal___1jK0Z typography___lxzyt weight-inherit___229vl navigation___2n5P8'})['href']\n",
    "        data[name][sub_category_name] = sub_category_uri"
   ]
  },
  {
   "cell_type": "code",
   "execution_count": 5,
   "metadata": {},
   "outputs": [
    {
     "output_type": "execute_result",
     "data": {
      "text/plain": "{&#39;Animals &amp; Pets&#39;: {&#39;Animal Health&#39;: &#39;/categories/animal_health&#39;,\n  &#39;Animal Parks &amp; Zoo&#39;: &#39;/categories/animal_parks_zoo&#39;,\n  &#39;Cats &amp; Dogs&#39;: &#39;/categories/cats_dogs&#39;,\n  &#39;Horses &amp; Riding&#39;: &#39;/categories/horses_riding&#39;,\n  &#39;Pet Services&#39;: &#39;/categories/pet_services&#39;,\n  &#39;Pet Stores&#39;: &#39;/categories/pet_stores&#39;},\n &#39;Beauty &amp; Well-being&#39;: {&#39;Cosmetics &amp; Makeup&#39;: &#39;/categories/cosmetics_makeup&#39;,\n  &#39;Hair Care &amp; Styling&#39;: &#39;/categories/hair_care_styling&#39;,\n  &#39;Personal Care&#39;: &#39;/categories/personal_care&#39;,\n  &#39;Salons &amp; Clinics&#39;: &#39;/categories/salons_clinics&#39;,\n  &#39;Tattoos &amp; Piercings&#39;: &#39;/categories/tattoos_piercings&#39;,\n  &#39;Wellness &amp; Spa&#39;: &#39;/categories/wellness_spa&#39;,\n  &#39;Yoga &amp; Meditation&#39;: &#39;/categories/yoga_meditation&#39;},\n &#39;Business Services&#39;: {&#39;Administration &amp; Services&#39;: &#39;/categories/administration_services&#39;,\n  &#39;Associations &amp; Centers&#39;: &#39;/categories/associations_centers&#39;,\n  &#39;HR &amp; Recruiting&#39;: &#39;/categories/hr_recruiting&#39;,\n  &#39;Import &amp; Export&#39;: &#39;/categories/import_export&#39;,\n  &#39;IT &amp; Communication&#39;: &#39;/categories/it_communication&#39;,\n  &#39;Office Space &amp; Supplies&#39;: &#39;/categories/office_space_supplies&#39;,\n  &#39;Print &amp; Graphic Design&#39;: &#39;/categories/print_graphic_design&#39;,\n  &#39;Research &amp; Development&#39;: &#39;/categories/research_development&#39;,\n  &#39;Sales &amp; Marketing&#39;: &#39;/categories/sales_marketing&#39;,\n  &#39;Shipping &amp; Logistics&#39;: &#39;/categories/shipping_logistics&#39;,\n  &#39;Wholesale&#39;: &#39;/categories/wholesale&#39;},\n &#39;Construction &amp; Manufacturing&#39;: {&#39;Architects &amp; Engineers&#39;: &#39;/categories/architects_engineers&#39;,\n  &#39;Building Materials&#39;: &#39;/categories/building_materials&#39;,\n  &#39;Chemicals &amp; Plastic&#39;: &#39;/categories/chemicals_plastic&#39;,\n  &#39;Construction Services&#39;: &#39;/categories/construction_services&#39;,\n  &#39;Contractors &amp; Consultants&#39;: &#39;/categories/contractors_consultants&#39;,\n  &#39;Factory Equipment&#39;: &#39;/categories/factory_equipment&#39;,\n  &#39;Garden &amp; Landscaping&#39;: &#39;/categories/garden_landscaping&#39;,\n  &#39;Industrial Supplies&#39;: &#39;/categories/industrial_supplies&#39;,\n  &#39;Manufacturing&#39;: &#39;/categories/manufacturing&#39;,\n  &#39;Production Services&#39;: &#39;/categories/production_services&#39;,\n  &#39;Tools &amp; Equipment&#39;: &#39;/categories/tools_equipment&#39;},\n &#39;Education &amp; Training&#39;: {&#39;Colleges &amp; Universities&#39;: &#39;/categories/colleges_universities&#39;,\n  &#39;Courses &amp; Classes&#39;: &#39;/categories/courses_classes&#39;,\n  &#39;Education Services&#39;: &#39;/categories/education_services&#39;,\n  &#39;Language Learning&#39;: &#39;/categories/language_learning&#39;,\n  &#39;Music &amp; Theater Classes&#39;: &#39;/categories/music_theater_classes&#39;,\n  &#39;School &amp; High School&#39;: &#39;/categories/school_high_school&#39;,\n  &#39;Specials Schools&#39;: &#39;/categories/specials_schools&#39;,\n  &#39;Vocational Training&#39;: &#39;/categories/vocational_training&#39;},\n &#39;Electronics &amp; Technology&#39;: {&#39;Appliances &amp; Electronics&#39;: &#39;/categories/appliances_electronics&#39;,\n  &#39;Audio &amp; Visual&#39;: &#39;/categories/audio_visual&#39;,\n  &#39;Computers &amp; Phones&#39;: &#39;/categories/computers_phones&#39;,\n  &#39;Internet &amp; Software&#39;: &#39;/categories/internet_software&#39;,\n  &#39;Repair &amp; Services&#39;: &#39;/categories/repair_services&#39;},\n &#39;Events &amp; Entertainment&#39;: {&#39;Adult Entertainment&#39;: &#39;/categories/adult_entertainment&#39;,\n  &quot;Children&#39;s Entertainment&quot;: &#39;/categories/childrens_entertainment&#39;,\n  &#39;Clubbing &amp; Nightlife&#39;: &#39;/categories/clubbing_nightlife&#39;,\n  &#39;Events &amp; Venues&#39;: &#39;/categories/events_venues&#39;,\n  &#39;Gambling&#39;: &#39;/categories/gambling&#39;,\n  &#39;Gaming&#39;: &#39;/categories/gaming&#39;,\n  &#39;Museums &amp; Exibits&#39;: &#39;/categories/museums_exibits&#39;,\n  &#39;Music &amp; Movies&#39;: &#39;/categories/music_movies&#39;,\n  &#39;Theater &amp; Opera&#39;: &#39;/categories/theater_opera&#39;,\n  &#39;Wedding &amp; Party&#39;: &#39;/categories/wedding_party&#39;},\n &#39;Food, Beverages &amp; Tobacco&#39;: {&#39;Agriculture &amp; Produce&#39;: &#39;/categories/agriculture_produce&#39;,\n  &#39;Asian Grocery Stores&#39;: &#39;/categories/asian_grocery_stores&#39;,\n  &#39;Bakery &amp; Pastry&#39;: &#39;/categories/bakery_pastry&#39;,\n  &#39;Beer &amp; Wine&#39;: &#39;/categories/beer_wine&#39;,\n  &#39;Beverages &amp; Liquor&#39;: &#39;/categories/beverages_liquor&#39;,\n  &#39;Butcher&#39;: &#39;/categories/butcher&#39;,\n  &#39;Candy &amp; Chocolate&#39;: &#39;/categories/candy_chocolate&#39;,\n  &#39;Coffee &amp; Tea&#39;: &#39;/categories/coffee_tea&#39;,\n  &#39;Food Production&#39;: &#39;/categories/food_production&#39;,\n  &#39;Fruits &amp; Vegetables&#39;: &#39;/categories/fruits_vegetables&#39;,\n  &#39;Grocery Stores &amp; Markets&#39;: &#39;/categories/grocery_stores_markets&#39;,\n  &#39;Lunch &amp; Catering&#39;: &#39;/categories/lunch_catering&#39;,\n  &#39;Meat, Seafood &amp; Eggs&#39;: &#39;/categories/meat_seafood_eggs&#39;,\n  &#39;Smoking &amp; Tobacco&#39;: &#39;/categories/smoking_tobacco&#39;,\n  &#39;Tobacco Store&#39;: &#39;/categories/tobacco_store&#39;},\n &#39;Health &amp; Medical&#39;: {&#39;Clinics&#39;: &#39;/categories/clinics&#39;,\n  &#39;Dental Services&#39;: &#39;/categories/dental_services&#39;,\n  &#39;Diagnostics &amp; Testing&#39;: &#39;/categories/diagnostics_testing&#39;,\n  &#39;Doctors &amp; Surgeons&#39;: &#39;/categories/doctors_surgeons&#39;,\n  &#39;Health Equipment&#39;: &#39;/categories/health_equipment&#39;,\n  &#39;Hospital &amp; Emergency&#39;: &#39;/categories/hospital_emergency&#39;,\n  &#39;Medical Specialists&#39;: &#39;/categories/medical_specialists&#39;,\n  &#39;Mental Health&#39;: &#39;/categories/mental_health&#39;,\n  &#39;Pharmacy &amp; Medicine&#39;: &#39;/categories/pharmacy_medicine&#39;,\n  &#39;Physical Aids&#39;: &#39;/categories/physical_aids&#39;,\n  &#39;Pregnancy &amp; Children&#39;: &#39;/categories/pregnancy_children&#39;,\n  &#39;Therapy &amp; Senior Health&#39;: &#39;/categories/therapy_senior_health&#39;,\n  &#39;Vision &amp; Hearing&#39;: &#39;/categories/vision_hearing&#39;},\n &#39;Hobbies &amp; Crafts&#39;: {&#39;Art &amp; Handicraft&#39;: &#39;/categories/art_handicraft&#39;,\n  &#39;Astrology &amp; Numerology&#39;: &#39;/categories/astrology_numerology&#39;,\n  &#39;Fishing &amp; Hunting&#39;: &#39;/categories/fishing_hunting&#39;,\n  &#39;Hobbies&#39;: &#39;/categories/hobbies&#39;,\n  &#39;Metal, Stone &amp; Glass Work&#39;: &#39;/categories/metal_stone_glass_work&#39;,\n  &#39;Music &amp; Instruments&#39;: &#39;/categories/music_instruments&#39;,\n  &#39;Needlework &amp; Knitting&#39;: &#39;/categories/needlework_knitting&#39;,\n  &#39;Outdoor Activities&#39;: &#39;/categories/outdoor_activities&#39;,\n  &#39;Painting &amp; Paper&#39;: &#39;/categories/painting_paper&#39;},\n &#39;Home &amp; Garden&#39;: {&#39;Bathroom &amp; Kitchen&#39;: &#39;/categories/bathroom_kitchen&#39;,\n  &#39;Cultural Goods&#39;: &#39;/categories/cultural_goods&#39;,\n  &#39;Decoration &amp; Interior&#39;: &#39;/categories/decoration_interior&#39;,\n  &#39;Energy &amp; Heating&#39;: &#39;/categories/energy_heating&#39;,\n  &#39;Fabric &amp; Stationery&#39;: &#39;/categories/fabric_stationary&#39;,\n  &#39;Furniture Stores&#39;: &#39;/categories/furniture_stores&#39;,\n  &#39;Garden &amp; Pond&#39;: &#39;/categories/garden_pond&#39;,\n  &#39;Home &amp; Garden Services&#39;: &#39;/categories/home_garden_services&#39;,\n  &#39;Home Goods Stores&#39;: &#39;/categories/home_goods_stores&#39;,\n  &#39;Home Improvements&#39;: &#39;/categories/home_improvements&#39;},\n &#39;Home Services&#39;: {&#39;Cleaning Service Providers&#39;: &#39;/categories/cleaning_service_providers&#39;,\n  &#39;Craftsman&#39;: &#39;/categories/craftsman&#39;,\n  &#39;House Services&#39;: &#39;/categories/house_services&#39;,\n  &#39;House Sitting &amp; Security&#39;: &#39;/categories/house_sitting_security&#39;,\n  &#39;Moving &amp; Storage&#39;: &#39;/categories/moving_storage&#39;,\n  &#39;Plumbing &amp; Sanitation&#39;: &#39;/categories/plumbing_sanitation&#39;,\n  &#39;Repair Service Providers&#39;: &#39;/categories/repair_service_providers&#39;},\n &#39;Legal Services &amp; Government&#39;: {&#39;Customs &amp; Toll&#39;: &#39;/categories/customs_toll&#39;,\n  &#39;Government Department&#39;: &#39;/categories/government_department&#39;,\n  &#39;Law Enforcement&#39;: &#39;/categories/law_enforcement&#39;,\n  &#39;Lawyers &amp; Attorneys&#39;: &#39;/categories/lawyers_attorneys&#39;,\n  &#39;Legal Service Providers&#39;: &#39;/categories/legal_service_providers&#39;,\n  &#39;Libraries &amp; Archives&#39;: &#39;/categories/libraries_archives&#39;,\n  &#39;Municipal Department&#39;: &#39;/categories/municipal_department&#39;,\n  &#39;Registration Services&#39;: &#39;/categories/registration_services&#39;},\n &#39;Media &amp; Publishing&#39;: {&#39;Books &amp; Magazines&#39;: &#39;/categories/books_magazines&#39;,\n  &#39;Media &amp; Information&#39;: &#39;/categories/media_information&#39;,\n  &#39;Photography&#39;: &#39;/categories/photography&#39;,\n  &#39;Video &amp; Sound&#39;: &#39;/categories/video_sound&#39;},\n &#39;Money &amp; Insurance&#39;: {&#39;Accounting &amp; Tax&#39;: &#39;/categories/accounting_tax&#39;,\n  &#39;Banking &amp; Money&#39;: &#39;/categories/banking_money&#39;,\n  &#39;Credit &amp; Debt Services&#39;: &#39;/categories/credit_debt_services&#39;,\n  &#39;Insurance&#39;: &#39;/categories/insurance&#39;,\n  &#39;Investments &amp; Wealth&#39;: &#39;/categories/investments_wealth&#39;,\n  &#39;Real Estate&#39;: &#39;/categories/real_estate&#39;},\n &#39;Public &amp; Local Services&#39;: {&#39;Employment &amp; Career&#39;: &#39;/categories/employment_career&#39;,\n  &#39;Funeral &amp; Memorial&#39;: &#39;/categories/funeral_memorial&#39;,\n  &#39;Housing Associations&#39;: &#39;/categories/housing_associations&#39;,\n  &#39;Kids &amp; Family&#39;: &#39;/categories/kids_family&#39;,\n  &#39;Military &amp; Veteran&#39;: &#39;/categories/military_veteran&#39;,\n  &#39;Nature &amp; Environment&#39;: &#39;/categories/nature_environment&#39;,\n  &#39;Professional Organizations&#39;: &#39;/categories/professional_organizations&#39;,\n  &#39;Public Services &amp; Welfare&#39;: &#39;/categories/public_services_welfare&#39;,\n  &#39;Religious Institutions&#39;: &#39;/categories/religious_institutions&#39;,\n  &#39;Shelters &amp; Homes&#39;: &#39;/categories/shelters_homes&#39;,\n  &#39;Waste Management&#39;: &#39;/categories/waste_management&#39;},\n &#39;Restaurants &amp; Bars&#39;: {&#39;Bars &amp; Cafes&#39;: &#39;/categories/bars_cafes&#39;,\n  &#39;European Cuisine&#39;: &#39;/categories/european_cuisine&#39;,\n  &#39;General Restaurants&#39;: &#39;/categories/general_restaurants&#39;,\n  &#39;Mediterranean Cuisine&#39;: &#39;/categories/mediterranean_cuisine&#39;,\n  &#39;Middle Eastern Cuisine&#39;: &#39;/categories/middle_eastern_cuisine&#39;,\n  &#39;North &amp; South American Cuisine&#39;: &#39;/categories/north_south_american_cuisine&#39;,\n  &#39;Southeast Asian Cuisine&#39;: &#39;/categories/southeast_asian_cuisine&#39;,\n  &#39;Takeaway&#39;: &#39;/categories/takeaway&#39;,\n  &#39;Vegetarian &amp; Diet&#39;: &#39;/categories/vegetarian_diet&#39;},\n &#39;Shopping &amp; Fashion&#39;: {&#39;Accessories&#39;: &#39;/categories/accessories&#39;,\n  &#39;Clothing &amp; Underwear&#39;: &#39;/categories/clothing_underwear&#39;,\n  &#39;Clothing Rental &amp; Repair&#39;: &#39;/categories/clothing_rental_repair&#39;,\n  &#39;Costume &amp; Wedding&#39;: &#39;/categories/costume_wedding&#39;,\n  &#39;Jewelry &amp; Watches&#39;: &#39;/categories/jewelry_watches&#39;,\n  &#39;Malls &amp; Marketplaces&#39;: &#39;/categories/malls_marketplaces&#39;},\n &#39;Sports&#39;: {&#39;Ball Games&#39;: &#39;/categories/ball_games&#39;,\n  &#39;Bat-and-ball Games&#39;: &#39;/categories/bat-and-ball_games&#39;,\n  &#39;Bowls &amp; Lawn Sports&#39;: &#39;/categories/bowls_lawn_sports&#39;,\n  &#39;Dancing &amp; Gymnastics&#39;: &#39;/categories/dancing_gymnastics&#39;,\n  &#39;Equipment &amp; Associations&#39;: &#39;/categories/equipment_associations&#39;,\n  &#39;Extreme Sports&#39;: &#39;/categories/extreme_sports&#39;,\n  &#39;Fitness &amp; Weight Lifting&#39;: &#39;/categories/fitness_weight_lifting&#39;,\n  &#39;Golf &amp; Ultimate&#39;: &#39;/categories/golf_ultimate&#39;,\n  &#39;Hockey &amp; Ice Skating&#39;: &#39;/categories/hockey_ice_skating&#39;,\n  &#39;Martial arts &amp; Wrestling&#39;: &#39;/categories/martial_arts_wrestling&#39;,\n  &#39;Outdoor &amp; Winter Sports&#39;: &#39;/categories/outdoor_winter_sports&#39;,\n  &#39;Shooting &amp; Target Sports&#39;: &#39;/categories/shooting_target_sports&#39;,\n  &#39;Swimming &amp; Water Sports&#39;: &#39;/categories/swimming_water_sports&#39;,\n  &#39;Tennis &amp; Racquet Sports&#39;: &#39;/categories/tennis_racquet_sports&#39;},\n &#39;Travel &amp; Vacation&#39;: {&#39;Accommodation &amp; Lodging&#39;: &#39;/categories/accomodations_lodging&#39;,\n  &#39;Activities &amp; Tours&#39;: &#39;/categories/activities_tours&#39;,\n  &#39;Airlines &amp; Air Travel&#39;: &#39;/categories/airlines_air_travel&#39;,\n  &#39;Hotels&#39;: &#39;/categories/hotels&#39;,\n  &#39;Travel Agencies&#39;: &#39;/categories/travel_agencies&#39;},\n &#39;Utilities&#39;: {&#39;Energy &amp; Power&#39;: &#39;/categories/energy_power&#39;,\n  &#39;Water Utilities&#39;: &#39;/categories/water_utilities&#39;},\n &#39;Vehicles &amp; Transportation&#39;: {&#39;Air &amp; Water Transport&#39;: &#39;/categories/air_water_transport&#39;,\n  &#39;Airports &amp; Parking&#39;: &#39;/categories/airports_parking&#39;,\n  &#39;Auto Parts &amp; Wheels&#39;: &#39;/categories/auto_parts_wheels&#39;,\n  &#39;Bicycles&#39;: &#39;/categories/bicycles&#39;,\n  &#39;Cars &amp; Trucks&#39;: &#39;/categories/cars_trucks&#39;,\n  &#39;Motorcycle &amp; Powersports&#39;: &#39;/categories/motorcycle_powersports&#39;,\n  &#39;Other Vehicles &amp; Trailers&#39;: &#39;/categories/other_vehicles_trailers&#39;,\n  &#39;Taxis &amp; Public Transport&#39;: &#39;/categories/taxis_public_transport&#39;,\n  &#39;Vehical Rental&#39;: &#39;/categories/vehical_rental&#39;,\n  &#39;Vehicle Repair &amp; Fuel&#39;: &#39;/categories/vehicle_repair_fuel&#39;}}"
     },
     "metadata": {},
     "execution_count": 5
    }
   ],
   "source": [
    "data"
   ]
  },
  {
   "cell_type": "code",
   "execution_count": 6,
   "metadata": {},
   "outputs": [],
   "source": [
    "def extract_company_urls_form_page():\n",
    "    # 尋找評論網址\n",
    "    a_list = driver.find_elements_by_xpath('//a[@class=\"internal___1jK0Z wrapper___26yB4\"]')\n",
    "    urls = [a.get_attribute('href') for a in a_list]\n",
    "    # 過濾不是\"review\"的網址\n",
    "    urls=[url for url in urls if url.split('/')[3]=='review']\n",
    "    dedup_urls = list(set(urls))\n",
    "    return dedup_urls"
   ]
  },
  {
   "cell_type": "code",
   "execution_count": 7,
   "metadata": {},
   "outputs": [],
   "source": [
    "def go_next_page():\n",
    "    try:\n",
    "        # 尋找是否有\"下一頁\"的按鈕\n",
    "        button = driver.find_element_by_xpath('//a[@class=\"paginationLinkNormalize___scOgG paginationLinkNext___1LQ14\"]')\n",
    "        return True, button\n",
    "    except NoSuchElementException:\n",
    "        return False, None"
   ]
  },
  {
   "source": [
    "'''\n",
    "執行Chrome Driver以不用開chrome進行加速爬蟲\n",
    "'''"
   ],
   "cell_type": "code",
   "metadata": {},
   "execution_count": 8,
   "outputs": [
    {
     "output_type": "execute_result",
     "data": {
      "text/plain": "&#39;\\n執行Chrome Driver以不用開chrome進行加速爬蟲\\n&#39;"
     },
     "metadata": {},
     "execution_count": 8
    }
   ]
  },
  {
   "cell_type": "code",
   "execution_count": 9,
   "metadata": {},
   "outputs": [],
   "source": [
    "options = Options()\n",
    "options.add_argument('--headless')\n",
    "options.add_argument('--no-sandbox')\n",
    "options.add_argument('start-maximized')\n",
    "options.add_argument('disable-infobars')\n",
    "options.add_argument(\"--disable-extensions\")\n",
    "\n",
    "prefs = {\"profile.managed_default_content_settings.images\": 2}\n",
    "options.add_experimental_option(\"prefs\", prefs)\n",
    "\n",
    "driver = webdriver.Chrome('./chromedriver', options=options)\n",
    "\n",
    "timeout = 3"
   ]
  },
  {
   "cell_type": "code",
   "execution_count": 10,
   "metadata": {
    "tags": []
   },
   "outputs": [
    {
     "output_type": "display_data",
     "data": {
      "text/plain": "HBox(children=(FloatProgress(value=0.0, max=22.0), HTML(value=&#39;&#39;)))",
      "application/vnd.jupyter.widget-view+json": {
       "version_major": 2,
       "version_minor": 0,
       "model_id": "654e59a7609747a8a79eb204b5cf3eed"
      }
     },
     "metadata": {}
    },
    {
     "output_type": "display_data",
     "data": {
      "text/plain": "HBox(children=(FloatProgress(value=0.0, max=6.0), HTML(value=&#39;&#39;)))",
      "application/vnd.jupyter.widget-view+json": {
       "version_major": 2,
       "version_minor": 0,
       "model_id": "6586cca4015c4c6da17f9bbbaa96127e"
      }
     },
     "metadata": {}
    },
    {
     "output_type": "display_data",
     "data": {
      "text/plain": "HBox(children=(FloatProgress(value=0.0, max=7.0), HTML(value=&#39;&#39;)))",
      "application/vnd.jupyter.widget-view+json": {
       "version_major": 2,
       "version_minor": 0,
       "model_id": "4627fa0a16904abda648fc5f421523b1"
      }
     },
     "metadata": {}
    },
    {
     "output_type": "display_data",
     "data": {
      "text/plain": "HBox(children=(FloatProgress(value=0.0, max=11.0), HTML(value=&#39;&#39;)))",
      "application/vnd.jupyter.widget-view+json": {
       "version_major": 2,
       "version_minor": 0,
       "model_id": "94b9c6a87d4d4f77a0ed9f3f3ba1d6e4"
      }
     },
     "metadata": {}
    },
    {
     "output_type": "display_data",
     "data": {
      "text/plain": "HBox(children=(FloatProgress(value=0.0, max=11.0), HTML(value=&#39;&#39;)))",
      "application/vnd.jupyter.widget-view+json": {
       "version_major": 2,
       "version_minor": 0,
       "model_id": "15af4736df40434db570842026cb6992"
      }
     },
     "metadata": {}
    },
    {
     "output_type": "display_data",
     "data": {
      "text/plain": "HBox(children=(FloatProgress(value=0.0, max=8.0), HTML(value=&#39;&#39;)))",
      "application/vnd.jupyter.widget-view+json": {
       "version_major": 2,
       "version_minor": 0,
       "model_id": "91e8b361415b4c48804d53013842e1ea"
      }
     },
     "metadata": {}
    },
    {
     "output_type": "display_data",
     "data": {
      "text/plain": "HBox(children=(FloatProgress(value=0.0, max=5.0), HTML(value=&#39;&#39;)))",
      "application/vnd.jupyter.widget-view+json": {
       "version_major": 2,
       "version_minor": 0,
       "model_id": "65bf4eb6835947c48080e3066425dd13"
      }
     },
     "metadata": {}
    },
    {
     "output_type": "display_data",
     "data": {
      "text/plain": "HBox(children=(FloatProgress(value=0.0, max=10.0), HTML(value=&#39;&#39;)))",
      "application/vnd.jupyter.widget-view+json": {
       "version_major": 2,
       "version_minor": 0,
       "model_id": "47e7057401fb4ebc8d0bcb28dd6c574e"
      }
     },
     "metadata": {}
    },
    {
     "output_type": "display_data",
     "data": {
      "text/plain": "HBox(children=(FloatProgress(value=0.0, max=15.0), HTML(value=&#39;&#39;)))",
      "application/vnd.jupyter.widget-view+json": {
       "version_major": 2,
       "version_minor": 0,
       "model_id": "efcc5ddc7ae0413fb57eb97526f71295"
      }
     },
     "metadata": {}
    },
    {
     "output_type": "display_data",
     "data": {
      "text/plain": "HBox(children=(FloatProgress(value=0.0, max=13.0), HTML(value=&#39;&#39;)))",
      "application/vnd.jupyter.widget-view+json": {
       "version_major": 2,
       "version_minor": 0,
       "model_id": "123bb328aba949ae923aedec1f0d52c4"
      }
     },
     "metadata": {}
    },
    {
     "output_type": "display_data",
     "data": {
      "text/plain": "HBox(children=(FloatProgress(value=0.0, max=9.0), HTML(value=&#39;&#39;)))",
      "application/vnd.jupyter.widget-view+json": {
       "version_major": 2,
       "version_minor": 0,
       "model_id": "a698227cfe9e43a48c219fb1941596fe"
      }
     },
     "metadata": {}
    },
    {
     "output_type": "display_data",
     "data": {
      "text/plain": "HBox(children=(FloatProgress(value=0.0, max=10.0), HTML(value=&#39;&#39;)))",
      "application/vnd.jupyter.widget-view+json": {
       "version_major": 2,
       "version_minor": 0,
       "model_id": "fbfe4658df584affbd311681f3cdfd83"
      }
     },
     "metadata": {}
    },
    {
     "output_type": "display_data",
     "data": {
      "text/plain": "HBox(children=(FloatProgress(value=0.0, max=7.0), HTML(value=&#39;&#39;)))",
      "application/vnd.jupyter.widget-view+json": {
       "version_major": 2,
       "version_minor": 0,
       "model_id": "b8b71b250cd948ceba01f196f66ef0af"
      }
     },
     "metadata": {}
    },
    {
     "output_type": "display_data",
     "data": {
      "text/plain": "HBox(children=(FloatProgress(value=0.0, max=8.0), HTML(value=&#39;&#39;)))",
      "application/vnd.jupyter.widget-view+json": {
       "version_major": 2,
       "version_minor": 0,
       "model_id": "0a66203bab954b4a93e88fdd66b669c8"
      }
     },
     "metadata": {}
    },
    {
     "output_type": "display_data",
     "data": {
      "text/plain": "HBox(children=(FloatProgress(value=0.0, max=4.0), HTML(value=&#39;&#39;)))",
      "application/vnd.jupyter.widget-view+json": {
       "version_major": 2,
       "version_minor": 0,
       "model_id": "ee5b2ac2ed854fe696a1cda753fefea2"
      }
     },
     "metadata": {}
    },
    {
     "output_type": "display_data",
     "data": {
      "text/plain": "HBox(children=(FloatProgress(value=0.0, max=6.0), HTML(value=&#39;&#39;)))",
      "application/vnd.jupyter.widget-view+json": {
       "version_major": 2,
       "version_minor": 0,
       "model_id": "d963226d8f034b8199e1ab414eca21e4"
      }
     },
     "metadata": {}
    },
    {
     "output_type": "display_data",
     "data": {
      "text/plain": "HBox(children=(FloatProgress(value=0.0, max=11.0), HTML(value=&#39;&#39;)))",
      "application/vnd.jupyter.widget-view+json": {
       "version_major": 2,
       "version_minor": 0,
       "model_id": "ea7e67ac966740b08fd22076e5594eba"
      }
     },
     "metadata": {}
    },
    {
     "output_type": "display_data",
     "data": {
      "text/plain": "HBox(children=(FloatProgress(value=0.0, max=9.0), HTML(value=&#39;&#39;)))",
      "application/vnd.jupyter.widget-view+json": {
       "version_major": 2,
       "version_minor": 0,
       "model_id": "13470e07aed84e129ffd172e8fdcdbcc"
      }
     },
     "metadata": {}
    },
    {
     "output_type": "display_data",
     "data": {
      "text/plain": "HBox(children=(FloatProgress(value=0.0, max=6.0), HTML(value=&#39;&#39;)))",
      "application/vnd.jupyter.widget-view+json": {
       "version_major": 2,
       "version_minor": 0,
       "model_id": "2e52d325833d4b3cbbbdc7142500ddbf"
      }
     },
     "metadata": {}
    },
    {
     "output_type": "display_data",
     "data": {
      "text/plain": "HBox(children=(FloatProgress(value=0.0, max=14.0), HTML(value=&#39;&#39;)))",
      "application/vnd.jupyter.widget-view+json": {
       "version_major": 2,
       "version_minor": 0,
       "model_id": "f103fa133ba5482aaaba370b71539563"
      }
     },
     "metadata": {}
    },
    {
     "output_type": "display_data",
     "data": {
      "text/plain": "HBox(children=(FloatProgress(value=0.0, max=5.0), HTML(value=&#39;&#39;)))",
      "application/vnd.jupyter.widget-view+json": {
       "version_major": 2,
       "version_minor": 0,
       "model_id": "9d6c2e25bc7b440a8b9bfebb1c42db84"
      }
     },
     "metadata": {}
    },
    {
     "output_type": "display_data",
     "data": {
      "text/plain": "HBox(children=(FloatProgress(value=0.0, max=2.0), HTML(value=&#39;&#39;)))",
      "application/vnd.jupyter.widget-view+json": {
       "version_major": 2,
       "version_minor": 0,
       "model_id": "c2876daa8d804b48a6be9e7117ed0184"
      }
     },
     "metadata": {}
    },
    {
     "output_type": "display_data",
     "data": {
      "text/plain": "HBox(children=(FloatProgress(value=0.0, max=10.0), HTML(value=&#39;&#39;)))",
      "application/vnd.jupyter.widget-view+json": {
       "version_major": 2,
       "version_minor": 0,
       "model_id": "c3fbc99fccd34f7faeef3b201968d617"
      }
     },
     "metadata": {}
    },
    {
     "output_type": "stream",
     "name": "stdout",
     "text": "\n"
    }
   ],
   "source": [
    "company_urls = {}\n",
    "for category in tqdm_notebook(data):\n",
    "    for sub_category in tqdm_notebook(data[category], leave=False):\n",
    "        company_urls[sub_category] = []\n",
    "        # 公司評論網址\n",
    "        url = base_url + data[category][sub_category] + \"?numberofreviews=0&timeperiod=0&status=all\"\n",
    "        driver.get(url)\n",
    "        try: \n",
    "            # 檢查是否有 class \"internal___1jK0Z wrapper___26yB4\"(討論網站)\n",
    "            element_present = EC.presence_of_element_located(\n",
    "                (By.CLASS_NAME, 'internal___1jK0Z wrapper___26yB4'))\n",
    "            # 有的話等3秒\n",
    "            WebDriverWait(driver, timeout).until(element_present)\n",
    "        except:\n",
    "            pass\n",
    "    \n",
    "        next_page = True\n",
    "        c = 1\n",
    "        while next_page:\n",
    "            extracted_company_urls = extract_company_urls_form_page()\n",
    "            company_urls[sub_category] += extracted_company_urls\n",
    "            next_page, button = go_next_page()\n",
    "            if c>10:\n",
    "                break\n",
    "            if next_page:\n",
    "                c += 1\n",
    "                next_url = base_url + data[category][sub_category] + \"?numberofreviews=0&timeperiod=0&status=all\" + f'&page={c}'\n",
    "                driver.get(next_url)\n",
    "                try: \n",
    "                    # 檢查是否有 class \"internal___1jK0Z wrapper___26yB4\"\n",
    "                    element_present = EC.presence_of_element_located(\n",
    "                        (By.CLASS_NAME, 'internal___1jK0Z wrapper___26yB4'))\n",
    "                    # 有的話等3秒\n",
    "                    WebDriverWait(driver, timeout).until(element_present)\n",
    "                except:\n",
    "                    pass"
   ]
  },
  {
   "cell_type": "code",
   "execution_count": 11,
   "metadata": {},
   "outputs": [],
   "source": [
    "with open('./company_urls_en', 'w') as f:\n",
    "    json.dump(company_urls, f)"
   ]
  },
  {
   "cell_type": "code",
   "execution_count": 12,
   "metadata": {},
   "outputs": [],
   "source": [
    "consolidated_data = []\n",
    "\n",
    "for category in data:\n",
    "    for sub_category in data[category]:\n",
    "        for url in company_urls[sub_category]:\n",
    "            consolidated_data.append((category, sub_category, url))\n",
    "\n",
    "df_consolidated_data = pd.DataFrame(consolidated_data, columns=['category', 'sub_category', 'company_url'])\n",
    "\n",
    "df_consolidated_data.to_csv('./consolidate_company_urls.csv', index=False)"
   ]
  }
 ]
}